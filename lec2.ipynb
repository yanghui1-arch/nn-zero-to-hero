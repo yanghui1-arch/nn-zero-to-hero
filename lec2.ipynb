{
 "cells": [
  {
   "cell_type": "code",
   "execution_count": 79,
   "metadata": {},
   "outputs": [
    {
     "data": {
      "text/plain": [
       "['emma', 'olivia', 'ava', 'isabella', 'sophia']"
      ]
     },
     "execution_count": 79,
     "metadata": {},
     "output_type": "execute_result"
    }
   ],
   "source": [
    "words = open('names.txt', 'r').read().splitlines()\n",
    "words[:5]"
   ]
  },
  {
   "cell_type": "code",
   "execution_count": 80,
   "metadata": {},
   "outputs": [],
   "source": [
    "block_size = 3 # given block_size character to predict the next\n",
    "batch_size = 32"
   ]
  },
  {
   "cell_type": "code",
   "execution_count": 81,
   "metadata": {},
   "outputs": [],
   "source": [
    "chars = list(set(''.join(words)))\n",
    "chars = sorted(chars)\n",
    "stoi = {c: i+1 for i, c in enumerate(chars)}\n",
    "stoi['.'] = 0\n",
    "iost = dict(zip(stoi.values(), stoi.keys()))"
   ]
  },
  {
   "cell_type": "code",
   "execution_count": 82,
   "metadata": {},
   "outputs": [
    {
     "name": "stdout",
     "output_type": "stream",
     "text": [
      "X_tr.shape=torch.Size([156890, 3]),X_val.shape=torch.Size([19611, 3]),X_te.shape=torch.Size([19611, 3])\n",
      "Y_tr.shape=torch.Size([156890]),Y_val.shape=torch.Size([19611]),Y_te.shape=torch.Size([19611])\n"
     ]
    }
   ],
   "source": [
    "import torch\n",
    "import torch.nn.functional as F\n",
    "import matplotlib.pyplot as plt\n",
    "X, Y = [], []\n",
    "output = []\n",
    "\n",
    "for word in words:\n",
    "\n",
    "    context = [0] * block_size\n",
    "    for ch in word:\n",
    "        idx = stoi[ch]\n",
    "        context = context[1:] + [idx]\n",
    "        X.append(context)\n",
    "        Y.append(idx)\n",
    "\n",
    "X = torch.tensor(X)\n",
    "Y = torch.tensor(Y)\n",
    "\n",
    "tr = int(len(X) * 0.8)\n",
    "val = tr + int(len(X) * 0.1)\n",
    "te = val + int(len(X) * 0.1)\n",
    "X_tr = X[: tr]\n",
    "Y_tr = Y[: tr]\n",
    "X_val = X[tr: val]\n",
    "Y_val = Y[tr: val]\n",
    "X_te = X[val: te]\n",
    "Y_te = Y[val: te]\n",
    "print(f\"{X_tr.shape=},{X_val.shape=},{X_te.shape=}\\n\"\n",
    "      +f\"{Y_tr.shape=},{Y_val.shape=},{Y_te.shape=}\")"
   ]
  },
  {
   "cell_type": "code",
   "execution_count": 83,
   "metadata": {},
   "outputs": [
    {
     "data": {
      "text/plain": [
       "torch.Size([156890, 3, 2])"
      ]
     },
     "execution_count": 83,
     "metadata": {},
     "output_type": "execute_result"
    }
   ],
   "source": [
    "C = torch.randn(27, 2).requires_grad_(True)\n",
    "emb = C[X_tr]\n",
    "emb.shape"
   ]
  },
  {
   "cell_type": "code",
   "execution_count": 84,
   "metadata": {},
   "outputs": [],
   "source": [
    "W1 = torch.randn(6, 100)\n",
    "b1 = torch.rand(100)\n",
    "W2 = torch.randn(100, 27)\n",
    "b2 = torch.rand(27)\n",
    "parameters = [C, W1, W2, b1, b2]\n",
    "\n",
    "for p in parameters:\n",
    "    p.requires_grad = True"
   ]
  },
  {
   "cell_type": "code",
   "execution_count": 85,
   "metadata": {},
   "outputs": [],
   "source": [
    "sm = torch.nn.Softmax()"
   ]
  },
  {
   "cell_type": "code",
   "execution_count": 86,
   "metadata": {},
   "outputs": [
    {
     "name": "stderr",
     "output_type": "stream",
     "text": [
      "c:\\Users\\Administrator\\anaconda3\\lib\\site-packages\\torch\\nn\\modules\\module.py:1511: UserWarning: Implicit dimension choice for softmax has been deprecated. Change the call to include dim=X as an argument.\n",
      "  return self._call_impl(*args, **kwargs)\n"
     ]
    }
   ],
   "source": [
    "# key forward pass functions\n",
    "h = torch.tanh(emb.view(-1, 6) @ W1 + b1)\n",
    "logits = sm(h @ W2 + b2)"
   ]
  },
  {
   "cell_type": "code",
   "execution_count": 95,
   "metadata": {},
   "outputs": [
    {
     "name": "stdout",
     "output_type": "stream",
     "text": [
      "2.756382942199707\n"
     ]
    }
   ],
   "source": [
    "loss = 0\n",
    "for _ in range(50000):\n",
    "    ix = torch.randint(0, X_tr.shape[0], (32,))\n",
    "    emb = C[X_tr[ix]]\n",
    "    h = torch.tanh(emb.view(-1, 6) @ W1 + b1)\n",
    "    logits = sm(h @ W2 + b2)\n",
    "    loss = F.cross_entropy(logits, Y_tr[ix])\n",
    "    for p in parameters:\n",
    "        p.grad = None\n",
    "    loss.backward()\n",
    "    for p in parameters:\n",
    "        p.data -= 0.1 * p.grad\n",
    "\n",
    "print(loss.item())"
   ]
  }
 ],
 "metadata": {
  "kernelspec": {
   "display_name": "base",
   "language": "python",
   "name": "python3"
  },
  "language_info": {
   "codemirror_mode": {
    "name": "ipython",
    "version": 3
   },
   "file_extension": ".py",
   "mimetype": "text/x-python",
   "name": "python",
   "nbconvert_exporter": "python",
   "pygments_lexer": "ipython3",
   "version": "3.9.12"
  }
 },
 "nbformat": 4,
 "nbformat_minor": 2
}
